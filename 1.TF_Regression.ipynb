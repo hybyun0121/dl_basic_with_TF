{
  "nbformat": 4,
  "nbformat_minor": 0,
  "metadata": {
    "colab": {
      "name": "TF_Regression.ipynb",
      "provenance": [],
      "collapsed_sections": []
    },
    "kernelspec": {
      "name": "python3",
      "display_name": "Python 3"
    },
    "language_info": {
      "name": "python"
    }
  },
  "cells": [
    {
      "cell_type": "code",
      "metadata": {
        "id": "tz1l5UDysfcJ"
      },
      "source": [
        "import random\n",
        "import numpy as np\n",
        "import matplotlib.pyplot as plt\n",
        "\n",
        "import tensorflow as tf"
      ],
      "execution_count": null,
      "outputs": []
    },
    {
      "cell_type": "markdown",
      "metadata": {
        "id": "jeK9CpjU9IuK"
      },
      "source": [
        "### Data 생성"
      ]
    },
    {
      "cell_type": "code",
      "metadata": {
        "id": "IVgbI3bWsofv"
      },
      "source": [
        "x = np.linspace(0, 10, 100) # 0에서 10사이 100개의 샘플을 생성합니다.\n",
        "noise = np.random.randn(len(x))*0.1 # 평균이 0이고 분산이 0.1인 정규분포에서 noise를 생성합니다.\n",
        "y = np.sin(x) + noise # sin 그래프에 noise를 추가합니다."
      ],
      "execution_count": null,
      "outputs": []
    },
    {
      "cell_type": "code",
      "metadata": {
        "colab": {
          "base_uri": "https://localhost:8080/",
          "height": 367
        },
        "id": "pYZdeSGrs3Hk",
        "outputId": "883b8175-a781-4516-821d-fc1322041689"
      },
      "source": [
        "plt.figure(figsize=(10,5)) # 출력 되는 plot의 사이즈를 조절합니다.\n",
        "plt.plot(x, y, 'o')\n",
        "plt.title('Sine Wave')\n",
        "plt.xlabel(\"input : x\")\n",
        "plt.ylabel(\"target : y\")"
      ],
      "execution_count": null,
      "outputs": [
        {
          "output_type": "execute_result",
          "data": {
            "text/plain": [
              "Text(0, 0.5, 'target : y')"
            ]
          },
          "metadata": {
            "tags": []
          },
          "execution_count": 192
        },
        {
          "output_type": "display_data",
          "data": {
            "image/png": "[encoded data removed]",
            "text/plain": [
              "<Figure size 720x360 with 1 Axes>"
            ]
          },
          "metadata": {
            "tags": [],
            "needs_background": "light"
          }
        }
      ]
    },
    {
      "cell_type": "markdown",
      "metadata": {
        "id": "zKxeoD-79MnN"
      },
      "source": [
        "### Linear Regression"
      ]
    },
    {
      "cell_type": "code",
      "metadata": {
        "id": "HRwm8cLZDUXL"
      },
      "source": [
        "def loss_fn(y, y_hat):\n",
        "    return 0.5*tf.reduce_mean((y-y_hat)**2) # MSE\n",
        "\n",
        "def linear_regressor(w,b,x):\n",
        "    return w*x+b"
      ],
      "execution_count": null,
      "outputs": []
    },
    {
      "cell_type": "code",
      "metadata": {
        "id": "nmJZ2DQrDzkr"
      },
      "source": [
        "def step(x,y,w,b,lr):\n",
        "    # context 안에 실행된 모든 연산을 테이프(tape)에 \"기록\"합니다.\n",
        "    with tf.GradientTape(persistent=True) as tape:\n",
        "        y_hat = linear_regressor(w,b,x)\n",
        "        loss = loss_fn(y, y_hat)\n",
        "    \n",
        "    w_grad, b_grad = tape.gradient(loss, (w,b))\n",
        "\n",
        "    w.assign_sub(lr*w_grad) # w = w - lr*w_grad\n",
        "    b.assign_sub(lr*b_grad) # b = b - lr*b_grad\n",
        "\n",
        "    return loss"
      ],
      "execution_count": null,
      "outputs": []
    },
    {
      "cell_type": "code",
      "metadata": {
        "colab": {
          "base_uri": "https://localhost:8080/"
        },
        "id": "9niFZB4fxYm1",
        "outputId": "5d750d23-f8f5-435f-f75d-7b182ff3c8dc"
      },
      "source": [
        "w = tf.Variable(np.random.rand(), trainable=True)\n",
        "b = tf.Variable(np.random.rand(), trainable=True)\n",
        "lr = 0.01\n",
        "\n",
        "for e in range(100):\n",
        "    loss = step(x,y,w,b,lr)\n",
        "\n",
        "    if e%10 == 0:\n",
        "        print(loss.numpy())"
      ],
      "execution_count": null,
      "outputs": [
        {
          "output_type": "stream",
          "text": [
            "4.0582695\n",
            "0.22405803\n",
            "0.22318076\n",
            "0.22317669\n",
            "0.22317302\n",
            "0.22316954\n",
            "0.22316621\n",
            "0.22316305\n",
            "0.22316006\n",
            "0.22315718\n"
          ],
          "name": "stdout"
        }
      ]
    },
    {
      "cell_type": "code",
      "metadata": {
        "id": "t_-Ai-wKDN_X"
      },
      "source": [
        "y_pred = w*x+b"
      ],
      "execution_count": null,
      "outputs": []
    },
    {
      "cell_type": "code",
      "metadata": {
        "colab": {
          "base_uri": "https://localhost:8080/",
          "height": 367
        },
        "id": "SL6-9NKZFB1T",
        "outputId": "67eb27f3-cfad-450c-b7ac-95fb1d428eca"
      },
      "source": [
        "plt.figure(figsize=(10,5))\n",
        "plt.plot(x, y, 'o')\n",
        "plt.plot(x,y_pred)\n",
        "plt.title('Sine Wave')\n",
        "plt.xlabel(\"input : x\")\n",
        "plt.ylabel(\"target : y\")"
      ],
      "execution_count": null,
      "outputs": [
        {
          "output_type": "execute_result",
          "data": {
            "text/plain": [
              "Text(0, 0.5, 'target : y')"
            ]
          },
          "metadata": {
            "tags": []
          },
          "execution_count": 197
        },
        {
          "output_type": "display_data",
          "data": {
            "image/png": "[encoded data removed]",
            "text/plain": [
              "<Figure size 720x360 with 1 Axes>"
            ]
          },
          "metadata": {
            "tags": [],
            "needs_background": "light"
          }
        }
      ]
    },
    {
      "cell_type": "markdown",
      "metadata": {
        "id": "4s_S7Zb__gws"
      },
      "source": [
        "### MLP"
      ]
    },
    {
      "cell_type": "code",
      "metadata": {
        "id": "Vv8bxMuaaX9T"
      },
      "source": [
        "def step_fun(x):\n",
        "    return tf.math.sign(x)"
      ],
      "execution_count": null,
      "outputs": []
    },
    {
      "cell_type": "code",
      "metadata": {
        "id": "rymx-FQXFJWB"
      },
      "source": [
        "def mlp(w1,w2,b1,b2,x):\n",
        "    x = x[np.newaxis,:]\n",
        "    h = step_fun(w1@x+b1)\n",
        "    out = w2@h+b2\n",
        "    return out"
      ],
      "execution_count": null,
      "outputs": []
    },
    {
      "cell_type": "code",
      "metadata": {
        "id": "xm5jvO53I6lL"
      },
      "source": [
        "def step(x,y,w1,b1,w2,b2,lr):\n",
        "    with tf.GradientTape(persistent=True) as tape:\n",
        "        y_hat = mlp(w1,w2,b1,b2,x)\n",
        "        loss = loss_fn(y, y_hat)\n",
        "    \n",
        "    w1_grad, b1_grad, w2_grad, b2_grad = tape.gradient(loss, (w1,b1,w2,b2))\n",
        "\n",
        "    w1.assign_sub(lr*w1_grad)\n",
        "    b1.assign_sub(lr*b1_grad)\n",
        "    w2.assign_sub(lr*w2_grad)\n",
        "    b2.assign_sub(lr*b2_grad)\n",
        "\n",
        "    return loss"
      ],
      "execution_count": null,
      "outputs": []
    },
    {
      "cell_type": "code",
      "metadata": {
        "id": "m-0J3J_cHlFp"
      },
      "source": [
        "w1 = tf.Variable(np.random.randn(100,1)*0.1)\n",
        "b1 = tf.Variable(np.random.randn(100,1))\n",
        "w2 = tf.Variable(np.random.randn(1,100)*0.1)\n",
        "b2 = tf.Variable(np.random.randn(1,1))\n",
        "lr = 0.01"
      ],
      "execution_count": null,
      "outputs": []
    },
    {
      "cell_type": "code",
      "metadata": {
        "colab": {
          "base_uri": "https://localhost:8080/"
        },
        "id": "bO6U949-ImwN",
        "outputId": "f3a63da8-a2d0-4fe2-8058-ea18c9b498f2"
      },
      "source": [
        "for e in range(1000):\n",
        "    loss = step(x,y,w1,b1,w2,b2,lr)\n",
        "\n",
        "    if e%100 == 0:\n",
        "        print(loss.numpy())"
      ],
      "execution_count": null,
      "outputs": [
        {
          "output_type": "stream",
          "text": [
            "0.4034059135136191\n",
            "0.07628359687124993\n",
            "0.04779362613715993\n",
            "0.03823197472167319\n",
            "0.03355558193012265\n",
            "0.030833766113321035\n",
            "0.02911542497342669\n",
            "0.02798107485690526\n",
            "0.027208765086981092\n",
            "0.026668855294075727\n"
          ],
          "name": "stdout"
        }
      ]
    },
    {
      "cell_type": "code",
      "metadata": {
        "id": "N03NN2WIJM1G"
      },
      "source": [
        "y_pred = mlp(w1,w2,b1,b2,x)"
      ],
      "execution_count": null,
      "outputs": []
    },
    {
      "cell_type": "code",
      "metadata": {
        "colab": {
          "base_uri": "https://localhost:8080/",
          "height": 367
        },
        "id": "uSSe5OvrJh4n",
        "outputId": "a74d514f-5623-4065-f5df-97021a657557"
      },
      "source": [
        "plt.figure(figsize=(10,5))\n",
        "plt.plot(x, y, 'o')\n",
        "plt.plot(x,y_pred[0,:])\n",
        "plt.title('Sine Wave')\n",
        "plt.xlabel(\"input : x\")\n",
        "plt.ylabel(\"target : y\")"
      ],
      "execution_count": null,
      "outputs": [
        {
          "output_type": "execute_result",
          "data": {
            "text/plain": [
              "Text(0, 0.5, 'target : y')"
            ]
          },
          "metadata": {
            "tags": []
          },
          "execution_count": 204
        },
        {
          "output_type": "display_data",
          "data": {
            "image/png": "[encoded data removed]",
            "text/plain": [
              "<Figure size 720x360 with 1 Axes>"
            ]
          },
          "metadata": {
            "tags": [],
            "needs_background": "light"
          }
        }
      ]
    },
    {
      "cell_type": "markdown",
      "metadata": {
        "id": "muz_xBaVSMtI"
      },
      "source": [
        "### Keras API로 MLP 구현하기"
      ]
    },
    {
      "cell_type": "code",
      "metadata": {
        "id": "d2r7UO4mPdPn"
      },
      "source": [
        "model = tf.keras.Sequential([\n",
        "                             tf.keras.layers.Dense(64,\n",
        "                                                   activation='tanh'),\n",
        "                             tf.keras.layers.Dense(64,\n",
        "                                                   activation='tanh'),\n",
        "                             tf.keras.layers.Dense(1)\n",
        "])"
      ],
      "execution_count": null,
      "outputs": []
    },
    {
      "cell_type": "code",
      "metadata": {
        "colab": {
          "base_uri": "https://localhost:8080/"
        },
        "id": "IAh9APo18Pup",
        "outputId": "4d590cf9-ec59-4601-c5b9-cf2a47920e55"
      },
      "source": [
        "model(tf.keras.layers.Input((1,)))\n",
        "model.summary()"
      ],
      "execution_count": null,
      "outputs": [
        {
          "output_type": "stream",
          "text": [
            "Model: \"sequential_20\"\n",
            "_________________________________________________________________\n",
            "Layer (type)                 Output Shape              Param #   \n",
            "=================================================================\n",
            "dense_50 (Dense)             (None, 64)                128       \n",
            "_________________________________________________________________\n",
            "dense_51 (Dense)             (None, 64)                4160      \n",
            "_________________________________________________________________\n",
            "dense_52 (Dense)             (None, 1)                 65        \n",
            "=================================================================\n",
            "Total params: 4,353\n",
            "Trainable params: 4,353\n",
            "Non-trainable params: 0\n",
            "_________________________________________________________________\n"
          ],
          "name": "stdout"
        }
      ]
    },
    {
      "cell_type": "code",
      "metadata": {
        "id": "Q3G0uC3mQIEG"
      },
      "source": [
        "data = tf.data.Dataset.from_tensor_slices((x, y))"
      ],
      "execution_count": null,
      "outputs": []
    },
    {
      "cell_type": "code",
      "metadata": {
        "id": "hvu4Ygb-Qd1X"
      },
      "source": [
        "data = data.shuffle(1000).batch(100)"
      ],
      "execution_count": null,
      "outputs": []
    },
    {
      "cell_type": "code",
      "metadata": {
        "id": "-GA1jpbBQe0D"
      },
      "source": [
        "model.compile(optimizer=tf.keras.optimizers.SGD(learning_rate=0.0099),\n",
        "              loss='mse')"
      ],
      "execution_count": null,
      "outputs": []
    },
    {
      "cell_type": "code",
      "metadata": {
        "id": "vh79TdyXQ9jZ",
        "colab": {
          "base_uri": "https://localhost:8080/"
        },
        "outputId": "185286e0-5462-4161-c2ce-dc514e7316a5"
      },
      "source": [
        "model.fit(data, epochs=1000, verbose=0)"
      ],
      "execution_count": null,
      "outputs": [
        {
          "output_type": "execute_result",
          "data": {
            "text/plain": [
              "<tensorflow.python.keras.callbacks.History at 0x7f4b010c8f10>"
            ]
          },
          "metadata": {
            "tags": []
          },
          "execution_count": 304
        }
      ]
    },
    {
      "cell_type": "code",
      "metadata": {
        "colab": {
          "base_uri": "https://localhost:8080/"
        },
        "id": "uyBGzhDtRCY7",
        "outputId": "783c7bf9-c0ea-4f5e-d8d5-f0b177743bd9"
      },
      "source": [
        "model.evaluate(data)"
      ],
      "execution_count": null,
      "outputs": [
        {
          "output_type": "stream",
          "text": [
            "1/1 [==============================] - 0s 83ms/step - loss: 0.2637\n"
          ],
          "name": "stdout"
        },
        {
          "output_type": "execute_result",
          "data": {
            "text/plain": [
              "0.2636691629886627"
            ]
          },
          "metadata": {
            "tags": []
          },
          "execution_count": 305
        }
      ]
    },
    {
      "cell_type": "code",
      "metadata": {
        "id": "tdvrQGynRIkq"
      },
      "source": [
        "y_pred = model.predict(x)"
      ],
      "execution_count": null,
      "outputs": []
    },
    {
      "cell_type": "code",
      "metadata": {
        "colab": {
          "base_uri": "https://localhost:8080/",
          "height": 367
        },
        "id": "LP-FR33dRRm8",
        "outputId": "f23b5a1c-bf69-4648-82ee-ad10d8c223df"
      },
      "source": [
        "plt.figure(figsize=(10,5))\n",
        "plt.plot(x, y, 'o')\n",
        "plt.plot(x,y_pred[:,0])\n",
        "plt.title('Sine Wave')\n",
        "plt.xlabel(\"input : x\")\n",
        "plt.ylabel(\"target : y\")"
      ],
      "execution_count": null,
      "outputs": [
        {
          "output_type": "execute_result",
          "data": {
            "text/plain": [
              "Text(0, 0.5, 'target : y')"
            ]
          },
          "metadata": {
            "tags": []
          },
          "execution_count": 307
        },
        {
          "output_type": "display_data",
          "data": {
            "image/png": "[encoded data removed]",
            "text/plain": [
              "<Figure size 720x360 with 1 Axes>"
            ]
          },
          "metadata": {
            "tags": [],
            "needs_background": "light"
          }
        }
      ]
    },
    {
      "cell_type": "code",
      "metadata": {
        "id": "8aK2uT6n-Qcx"
      },
      "source": [
        ""
      ],
      "execution_count": null,
      "outputs": []
    }
  ]
}