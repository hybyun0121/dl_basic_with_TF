{
  "nbformat": 4,
  "nbformat_minor": 0,
  "metadata": {
    "colab": {
      "name": "TF_Regression.ipynb",
      "provenance": [],
      "collapsed_sections": []
    },
    "kernelspec": {
      "name": "python3",
      "display_name": "Python 3"
    },
    "language_info": {
      "name": "python"
    },
    "accelerator": "GPU"
  },
  "cells": [
    {
      "cell_type": "code",
      "metadata": {
        "id": "tz1l5UDysfcJ"
      },
      "source": [
        "import random\n",
        "import numpy as np\n",
        "import matplotlib.pyplot as plt\n",
        "\n",
        "import tensorflow as tf"
      ],
      "execution_count": null,
      "outputs": []
    },
    {
      "cell_type": "markdown",
      "metadata": {
        "id": "jeK9CpjU9IuK"
      },
      "source": [
        "### Data 생성"
      ]
    },
    {
      "cell_type": "code",
      "metadata": {
        "id": "IVgbI3bWsofv"
      },
      "source": [
        "x = np.linspace(0, 10, 100) # 0에서 10사이 100개의 샘플을 생성합니다.\n",
        "train_x = x.copy()\n",
        "noise = np.random.randn(len(x))*0.1 # 평균이 0이고 분산이 0.1인 정규분포에서 noise를 생성합니다.\n",
        "y = np.sin(x) + noise # sin 그래프에 noise를 추가합니다.\n",
        "train_y = y.copy()"
      ],
      "execution_count": null,
      "outputs": []
    },
    {
      "cell_type": "code",
      "metadata": {
        "colab": {
          "base_uri": "https://localhost:8080/",
          "height": 367
        },
        "id": "pYZdeSGrs3Hk",
        "outputId": "cb54c406-1f3b-43de-883c-9b08456c32d0"
      },
      "source": [
        "plt.figure(figsize=(10,5)) # 출력 되는 plot의 사이즈를 조절합니다.\n",
        "plt.plot(x, y, 'o')\n",
        "plt.title('Sine Wave')\n",
        "plt.xlabel(\"input : x\")\n",
        "plt.ylabel(\"target : y\")"
      ],
      "execution_count": null,
      "outputs": [
        {
          "output_type": "execute_result",
          "data": {
            "text/plain": [
              "Text(0, 0.5, 'target : y')"
            ]
          },
          "metadata": {
            "tags": []
          },
          "execution_count": 88
        },
        {
          "output_type": "display_data",
          "data": {
            "image/png": "[encoded data removed]",
            "text/plain": [
              "<Figure size 720x360 with 1 Axes>"
            ]
          },
          "metadata": {
            "tags": [],
            "needs_background": "light"
          }
        }
      ]
    },
    {
      "cell_type": "code",
      "metadata": {
        "id": "5MtmKriNBJ-I"
      },
      "source": [
        "np.random.seed(777)\n",
        "np.random.shuffle(train_x)\n",
        "np.random.seed(777)\n",
        "np.random.shuffle(train_y)"
      ],
      "execution_count": null,
      "outputs": []
    },
    {
      "cell_type": "markdown",
      "metadata": {
        "id": "zKxeoD-79MnN"
      },
      "source": [
        "### Linear Regression"
      ]
    },
    {
      "cell_type": "code",
      "metadata": {
        "id": "HRwm8cLZDUXL"
      },
      "source": [
        "def loss_fn(y, y_hat):\n",
        "    return 0.5*tf.reduce_mean((y-y_hat)**2) # MSE\n",
        "\n",
        "def linear_regressor(w,b,x):\n",
        "    return w*x+b"
      ],
      "execution_count": null,
      "outputs": []
    },
    {
      "cell_type": "code",
      "metadata": {
        "id": "nmJZ2DQrDzkr"
      },
      "source": [
        "def step(x,y,w,b,lr):\n",
        "    # context 안에 실행된 모든 연산을 테이프(tape)에 \"기록\"합니다.\n",
        "    with tf.GradientTape(persistent=True) as tape:\n",
        "        y_hat = linear_regressor(w,b,x)\n",
        "        loss = loss_fn(y, y_hat)\n",
        "    \n",
        "    w_grad, b_grad = tape.gradient(loss, (w,b))\n",
        "\n",
        "    w.assign_sub(lr*w_grad) # w = w - lr*w_grad\n",
        "    b.assign_sub(lr*b_grad) # b = b - lr*b_grad\n",
        "\n",
        "    return loss"
      ],
      "execution_count": null,
      "outputs": []
    },
    {
      "cell_type": "code",
      "metadata": {
        "colab": {
          "base_uri": "https://localhost:8080/"
        },
        "id": "9niFZB4fxYm1",
        "outputId": "88c08f8b-e37c-4117-8115-dac452728e5e"
      },
      "source": [
        "w = tf.Variable(np.random.rand(), trainable=True)\n",
        "b = tf.Variable(np.random.rand(), trainable=True)\n",
        "lr = 0.01\n",
        "\n",
        "for e in range(100):\n",
        "    loss = step(train_x,train_y,w,b,lr)\n",
        "\n",
        "    if e%10 == 0:\n",
        "        print(loss.numpy())"
      ],
      "execution_count": null,
      "outputs": [
        {
          "output_type": "stream",
          "text": [
            "0.96680415\n",
            "0.26859704\n",
            "0.2663632\n",
            "0.26438844\n",
            "0.26250952\n",
            "0.26072165\n",
            "0.25902054\n",
            "0.25740185\n",
            "0.25586167\n",
            "0.25439617\n"
          ],
          "name": "stdout"
        }
      ]
    },
    {
      "cell_type": "code",
      "metadata": {
        "id": "t_-Ai-wKDN_X"
      },
      "source": [
        "y_pred = w*x+b"
      ],
      "execution_count": null,
      "outputs": []
    },
    {
      "cell_type": "code",
      "metadata": {
        "colab": {
          "base_uri": "https://localhost:8080/",
          "height": 367
        },
        "id": "SL6-9NKZFB1T",
        "outputId": "04e414e7-bbc8-4708-df74-62294af74e92"
      },
      "source": [
        "plt.figure(figsize=(10,5))\n",
        "plt.plot(x, y, 'o')\n",
        "plt.plot(x,y_pred)\n",
        "plt.title('Sine Wave')\n",
        "plt.xlabel(\"input : x\")\n",
        "plt.ylabel(\"target : y\")"
      ],
      "execution_count": null,
      "outputs": [
        {
          "output_type": "execute_result",
          "data": {
            "text/plain": [
              "Text(0, 0.5, 'target : y')"
            ]
          },
          "metadata": {
            "tags": []
          },
          "execution_count": 95
        },
        {
          "output_type": "display_data",
          "data": {
            "image/png": "[encoded data removed]",
            "text/plain": [
              "<Figure size 720x360 with 1 Axes>"
            ]
          },
          "metadata": {
            "tags": [],
            "needs_background": "light"
          }
        }
      ]
    },
    {
      "cell_type": "markdown",
      "metadata": {
        "id": "4s_S7Zb__gws"
      },
      "source": [
        "### MLP"
      ]
    },
    {
      "cell_type": "code",
      "metadata": {
        "id": "Vv8bxMuaaX9T"
      },
      "source": [
        "def step_fun(x):\n",
        "    return tf.math.sign(x)"
      ],
      "execution_count": null,
      "outputs": []
    },
    {
      "cell_type": "code",
      "metadata": {
        "id": "rymx-FQXFJWB"
      },
      "source": [
        "def mlp(w1,w2,b1,b2,x):\n",
        "    x = x[np.newaxis,:]\n",
        "    h = step_fun(w1@x+b1)\n",
        "    out = w2@h+b2\n",
        "    return out"
      ],
      "execution_count": null,
      "outputs": []
    },
    {
      "cell_type": "code",
      "metadata": {
        "id": "xm5jvO53I6lL"
      },
      "source": [
        "def step(x,y,w1,b1,w2,b2,lr):\n",
        "    with tf.GradientTape(persistent=True) as tape:\n",
        "        y_hat = mlp(w1,w2,b1,b2,x)\n",
        "        loss = loss_fn(y, y_hat)\n",
        "    \n",
        "    w1_grad, b1_grad, w2_grad, b2_grad = tape.gradient(loss, (w1,b1,w2,b2))\n",
        "\n",
        "    w1.assign_sub(lr*w1_grad)\n",
        "    b1.assign_sub(lr*b1_grad)\n",
        "    w2.assign_sub(lr*w2_grad)\n",
        "    b2.assign_sub(lr*b2_grad)\n",
        "\n",
        "    return loss"
      ],
      "execution_count": null,
      "outputs": []
    },
    {
      "cell_type": "code",
      "metadata": {
        "id": "m-0J3J_cHlFp"
      },
      "source": [
        "w1 = tf.Variable(np.random.randn(100,1)*0.1)\n",
        "b1 = tf.Variable(np.random.randn(100,1))\n",
        "w2 = tf.Variable(np.random.randn(1,100)*0.1)\n",
        "b2 = tf.Variable(np.random.randn(1,1))\n",
        "lr = 0.01"
      ],
      "execution_count": null,
      "outputs": []
    },
    {
      "cell_type": "code",
      "metadata": {
        "colab": {
          "base_uri": "https://localhost:8080/"
        },
        "id": "bO6U949-ImwN",
        "outputId": "75a71256-3adc-4491-87d2-28b41101f2aa"
      },
      "source": [
        "for e in range(1000):\n",
        "    loss = step(train_x, train_y,w1,b1,w2,b2,lr)\n",
        "\n",
        "    if e%100 == 0:\n",
        "        print(loss.numpy())"
      ],
      "execution_count": null,
      "outputs": [
        {
          "output_type": "stream",
          "text": [
            "0.7178679609513025\n",
            "0.06907615389555567\n",
            "0.05571744747136178\n",
            "0.05162145554441018\n",
            "0.04986787446411989\n",
            "0.0489417848009185\n",
            "0.048368402059843184\n",
            "0.04797008010378132\n",
            "0.04766943985040362\n",
            "0.047428427997544105\n"
          ],
          "name": "stdout"
        }
      ]
    },
    {
      "cell_type": "code",
      "metadata": {
        "id": "N03NN2WIJM1G"
      },
      "source": [
        "y_pred = mlp(w1,w2,b1,b2,x)"
      ],
      "execution_count": null,
      "outputs": []
    },
    {
      "cell_type": "code",
      "metadata": {
        "colab": {
          "base_uri": "https://localhost:8080/",
          "height": 367
        },
        "id": "uSSe5OvrJh4n",
        "outputId": "35248d82-f41b-4962-cef3-9f212de011d8"
      },
      "source": [
        "plt.figure(figsize=(10,5))\n",
        "plt.plot(x, y, 'o')\n",
        "plt.plot(x,y_pred[0,:])\n",
        "plt.title('Sine Wave')\n",
        "plt.xlabel(\"input : x\")\n",
        "plt.ylabel(\"target : y\")"
      ],
      "execution_count": null,
      "outputs": [
        {
          "output_type": "execute_result",
          "data": {
            "text/plain": [
              "Text(0, 0.5, 'target : y')"
            ]
          },
          "metadata": {
            "tags": []
          },
          "execution_count": 102
        },
        {
          "output_type": "display_data",
          "data": {
            "image/png": "[encoded data removed]",
            "text/plain": [
              "<Figure size 720x360 with 1 Axes>"
            ]
          },
          "metadata": {
            "tags": [],
            "needs_background": "light"
          }
        }
      ]
    },
    {
      "cell_type": "markdown",
      "metadata": {
        "id": "muz_xBaVSMtI"
      },
      "source": [
        "### Keras API로 MLP 구현하기"
      ]
    },
    {
      "cell_type": "code",
      "metadata": {
        "id": "d2r7UO4mPdPn"
      },
      "source": [
        "model = tf.keras.Sequential([\n",
        "                             tf.keras.layers.Dense(100,\n",
        "                                                   activation='relu'),\n",
        "                             tf.keras.layers.Dense(100,\n",
        "                                                   activation='relu'),\n",
        "                             tf.keras.layers.Dense(1)\n",
        "])"
      ],
      "execution_count": null,
      "outputs": []
    },
    {
      "cell_type": "code",
      "metadata": {
        "colab": {
          "base_uri": "https://localhost:8080/"
        },
        "id": "IAh9APo18Pup",
        "outputId": "9e48fdd7-1781-45a6-863b-c8cead054cae"
      },
      "source": [
        "model(tf.keras.layers.Input((1,)))\n",
        "model.summary()"
      ],
      "execution_count": null,
      "outputs": [
        {
          "output_type": "stream",
          "text": [
            "Model: \"sequential_4\"\n",
            "_________________________________________________________________\n",
            "Layer (type)                 Output Shape              Param #   \n",
            "=================================================================\n",
            "dense_9 (Dense)              (None, 100)               200       \n",
            "_________________________________________________________________\n",
            "dense_10 (Dense)             (None, 100)               10100     \n",
            "_________________________________________________________________\n",
            "dense_11 (Dense)             (None, 1)                 101       \n",
            "=================================================================\n",
            "Total params: 10,401\n",
            "Trainable params: 10,401\n",
            "Non-trainable params: 0\n",
            "_________________________________________________________________\n"
          ],
          "name": "stdout"
        }
      ]
    },
    {
      "cell_type": "code",
      "metadata": {
        "id": "-GA1jpbBQe0D"
      },
      "source": [
        "model.compile(optimizer=tf.keras.optimizers.SGD(learning_rate=0.05),\n",
        "              loss='mse')"
      ],
      "execution_count": null,
      "outputs": []
    },
    {
      "cell_type": "code",
      "metadata": {
        "id": "vh79TdyXQ9jZ",
        "colab": {
          "base_uri": "https://localhost:8080/"
        },
        "outputId": "d54eb075-986b-4764-a587-15a0eb3a1a84"
      },
      "source": [
        "model.fit(train_x, train_y, epochs=1000, verbose=0)"
      ],
      "execution_count": null,
      "outputs": [
        {
          "output_type": "execute_result",
          "data": {
            "text/plain": [
              "<tensorflow.python.keras.callbacks.History at 0x7f1abb123f50>"
            ]
          },
          "metadata": {
            "tags": []
          },
          "execution_count": 130
        }
      ]
    },
    {
      "cell_type": "code",
      "metadata": {
        "colab": {
          "base_uri": "https://localhost:8080/"
        },
        "id": "uyBGzhDtRCY7",
        "outputId": "fd963407-43da-4245-a54d-541d83576bb0"
      },
      "source": [
        "model.evaluate(data)"
      ],
      "execution_count": null,
      "outputs": [
        {
          "output_type": "stream",
          "text": [
            "1/1 [==============================] - 0s 66ms/step - loss: 0.0568\n"
          ],
          "name": "stdout"
        },
        {
          "output_type": "execute_result",
          "data": {
            "text/plain": [
              "0.056767139583826065"
            ]
          },
          "metadata": {
            "tags": []
          },
          "execution_count": 131
        }
      ]
    },
    {
      "cell_type": "code",
      "metadata": {
        "id": "tdvrQGynRIkq"
      },
      "source": [
        "y_pred = model.predict(x)"
      ],
      "execution_count": null,
      "outputs": []
    },
    {
      "cell_type": "code",
      "metadata": {
        "colab": {
          "base_uri": "https://localhost:8080/",
          "height": 367
        },
        "id": "LP-FR33dRRm8",
        "outputId": "3d1c7318-43e4-4a87-9164-a90722fbb559"
      },
      "source": [
        "plt.figure(figsize=(10,5))\n",
        "plt.plot(x, y, 'o')\n",
        "plt.plot(x,y_pred[:,0])\n",
        "plt.title('Sine Wave')\n",
        "plt.xlabel(\"input : x\")\n",
        "plt.ylabel(\"target : y\")"
      ],
      "execution_count": null,
      "outputs": [
        {
          "output_type": "execute_result",
          "data": {
            "text/plain": [
              "Text(0, 0.5, 'target : y')"
            ]
          },
          "metadata": {
            "tags": []
          },
          "execution_count": 133
        },
        {
          "output_type": "display_data",
          "data": {
            "image/png": "[encoded data removed]",
            "text/plain": [
              "<Figure size 720x360 with 1 Axes>"
            ]
          },
          "metadata": {
            "tags": [],
            "needs_background": "light"
          }
        }
      ]
    }
  ]
}