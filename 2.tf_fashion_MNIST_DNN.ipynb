{
  "nbformat": 4,
  "nbformat_minor": 0,
  "metadata": {
    "colab": {
      "name": "tf_fashion_MNIST_DNN.ipynb",
      "provenance": [],
      "collapsed_sections": [
        "23xlZndoOEa4",
        "KwVRd8TxhITK",
        "KAx-P2CDOKWj",
        "KfkFwLxZgVgo",
        "Pv_Vxj-9g5Ee",
        "3bYiAlFPgaki"
      ]
    },
    "kernelspec": {
      "name": "python3",
      "display_name": "Python 3"
    },
    "language_info": {
      "name": "python"
    },
    "accelerator": "GPU"
  },
  "cells": [
    {
      "cell_type": "code",
      "metadata": {
        "id": "Jvs81ncEes_6"
      },
      "source": [
        "import numpy as np\n",
        "import tensorflow as tf\n",
        "import matplotlib.pyplot as plt"
      ],
      "execution_count": null,
      "outputs": []
    },
    {
      "cell_type": "code",
      "metadata": {
        "id": "GqWGRZsJ--Jc"
      },
      "source": [
        "tf.config.run_functions_eagerly(True)"
      ],
      "execution_count": null,
      "outputs": []
    },
    {
      "cell_type": "markdown",
      "metadata": {
        "id": "swtIl5HCfVkJ"
      },
      "source": [
        "## Fashion MNIST DNN 분류기 구현하기\n",
        "  \n",
        "### Fashion MNIST란?\n",
        "https://www.tensorflow.org/datasets/catalog/fashion_mnist"
      ]
    },
    {
      "cell_type": "code",
      "metadata": {
        "id": "2kJndWF3eyXh"
      },
      "source": [
        "import tensorflow_datasets as tfds"
      ],
      "execution_count": null,
      "outputs": []
    },
    {
      "cell_type": "code",
      "metadata": {
        "colab": {
          "base_uri": "https://localhost:8080/"
        },
        "id": "aIvdNpiWgJ0A",
        "outputId": "bb0d83f3-8666-4705-f236-2842187a84ac"
      },
      "source": [
        "tfds.list_builders()[70:80]"
      ],
      "execution_count": null,
      "outputs": [
        {
          "output_type": "execute_result",
          "data": {
            "text/plain": [
              "['fashion_mnist',\n",
              " 'flic',\n",
              " 'flores',\n",
              " 'food101',\n",
              " 'forest_fires',\n",
              " 'fuss',\n",
              " 'gap',\n",
              " 'geirhos_conflict_stimuli',\n",
              " 'genomics_ood',\n",
              " 'german_credit_numeric']"
            ]
          },
          "metadata": {
            "tags": []
          },
          "execution_count": 4
        }
      ]
    },
    {
      "cell_type": "code",
      "metadata": {
        "id": "bxCYcyR1gSzr"
      },
      "source": [
        "dataset, info = tfds.load('fashion_mnist',\n",
        "                          split=[\"train\",\"test\"],\n",
        "                          with_info=True,\n",
        "                          shuffle_files=True,\n",
        "                          as_supervised=True)"
      ],
      "execution_count": null,
      "outputs": []
    },
    {
      "cell_type": "code",
      "metadata": {
        "colab": {
          "base_uri": "https://localhost:8080/"
        },
        "id": "-VsWDAfHnS-o",
        "outputId": "ea16541c-371c-48bb-f555-337aaea6df2b"
      },
      "source": [
        "dataset"
      ],
      "execution_count": null,
      "outputs": [
        {
          "output_type": "execute_result",
          "data": {
            "text/plain": [
              "[<_OptionsDataset shapes: ((28, 28, 1), ()), types: (tf.uint8, tf.int64)>,\n",
              " <_OptionsDataset shapes: ((28, 28, 1), ()), types: (tf.uint8, tf.int64)>]"
            ]
          },
          "metadata": {
            "tags": []
          },
          "execution_count": 42
        }
      ]
    },
    {
      "cell_type": "code",
      "metadata": {
        "id": "RW8xid4Gspo0",
        "colab": {
          "base_uri": "https://localhost:8080/"
        },
        "outputId": "9aa9761f-dd67-42ae-a649-7dd0118f8e26"
      },
      "source": [
        "# tfds에서 제공하는 data의 정보를 보여줍니다.\n",
        "info"
      ],
      "execution_count": null,
      "outputs": [
        {
          "output_type": "execute_result",
          "data": {
            "text/plain": [
              "tfds.core.DatasetInfo(\n",
              "    name='fashion_mnist',\n",
              "    version=3.0.1,\n",
              "    description='Fashion-MNIST is a dataset of Zalando's article images consisting of a training set of 60,000 examples and a test set of 10,000 examples. Each example is a 28x28 grayscale image, associated with a label from 10 classes.',\n",
              "    homepage='https://github.com/zalandoresearch/fashion-mnist',\n",
              "    features=FeaturesDict({\n",
              "        'image': Image(shape=(28, 28, 1), dtype=tf.uint8),\n",
              "        'label': ClassLabel(shape=(), dtype=tf.int64, num_classes=10),\n",
              "    }),\n",
              "    total_num_examples=70000,\n",
              "    splits={\n",
              "        'test': 10000,\n",
              "        'train': 60000,\n",
              "    },\n",
              "    supervised_keys=('image', 'label'),\n",
              "    citation=\"\"\"@article{DBLP:journals/corr/abs-1708-07747,\n",
              "      author    = {Han Xiao and\n",
              "                   Kashif Rasul and\n",
              "                   Roland Vollgraf},\n",
              "      title     = {Fashion-MNIST: a Novel Image Dataset for Benchmarking Machine Learning\n",
              "                   Algorithms},\n",
              "      journal   = {CoRR},\n",
              "      volume    = {abs/1708.07747},\n",
              "      year      = {2017},\n",
              "      url       = {http://arxiv.org/abs/1708.07747},\n",
              "      archivePrefix = {arXiv},\n",
              "      eprint    = {1708.07747},\n",
              "      timestamp = {Mon, 13 Aug 2018 16:47:27 +0200},\n",
              "      biburl    = {https://dblp.org/rec/bib/journals/corr/abs-1708-07747},\n",
              "      bibsource = {dblp computer science bibliography, https://dblp.org}\n",
              "    }\"\"\",\n",
              "    redistribution_info=,\n",
              ")"
            ]
          },
          "metadata": {
            "tags": []
          },
          "execution_count": 43
        }
      ]
    },
    {
      "cell_type": "markdown",
      "metadata": {
        "id": "W01ibXTCsLCf"
      },
      "source": [
        "|Label|\tDescription|\n",
        "|---|---|\n",
        "|0|\tT-shirt/top|\n",
        "|1|\tTrouser|\n",
        "|2|\tPullover|\n",
        "|3|\tDress|\n",
        "|4|\tCoat|\n",
        "|5|\tSandal|\n",
        "|6|\tShirt|\n",
        "|7|\tSneaker|\n",
        "|8|\tBag|\n",
        "|9|\tAnkle boot|\n"
      ]
    },
    {
      "cell_type": "code",
      "metadata": {
        "id": "bAEyFN2ii1pH"
      },
      "source": [
        "train_data, test_data = dataset"
      ],
      "execution_count": null,
      "outputs": []
    },
    {
      "cell_type": "code",
      "metadata": {
        "id": "l7wtlPYTqgwA",
        "colab": {
          "base_uri": "https://localhost:8080/"
        },
        "outputId": "cc9d6d17-0a80-4909-dbfc-43a2805e2ad6"
      },
      "source": [
        "# 데이터의 개수를 카운트하는 함수.\n",
        "def count_datasets(dataset):\n",
        "    cnt = [x for x, y in enumerate(dataset)][-1] + 1\n",
        "    return cnt\n",
        "\n",
        "count_datasets(test_data)"
      ],
      "execution_count": null,
      "outputs": [
        {
          "output_type": "execute_result",
          "data": {
            "text/plain": [
              "10000"
            ]
          },
          "metadata": {
            "tags": []
          },
          "execution_count": 8
        }
      ]
    },
    {
      "cell_type": "code",
      "metadata": {
        "id": "pVvfuAIwo6QY"
      },
      "source": [
        "tmp = train_data.take(1)\n",
        "list(tmp.as_numpy_iterator())"
      ],
      "execution_count": null,
      "outputs": []
    },
    {
      "cell_type": "code",
      "metadata": {
        "id": "iYbZMaYtq7ye",
        "colab": {
          "base_uri": "https://localhost:8080/",
          "height": 282
        },
        "outputId": "827c7681-8ce8-4f40-f343-de33b8cc5807"
      },
      "source": [
        "# 데이터 하나를 뽑아서 출력해봅니다.\n",
        "for image, label in train_data.take(1):\n",
        "    plt.imshow(image[:,:,0])\n",
        "    print(f\"Class : {label.numpy()}\")"
      ],
      "execution_count": null,
      "outputs": [
        {
          "output_type": "stream",
          "text": [
            "Class : 2\n"
          ],
          "name": "stdout"
        },
        {
          "output_type": "display_data",
          "data": {
            "image/png": "[encoded data removed]",
            "text/plain": [
              "<Figure size 432x288 with 1 Axes>"
            ]
          },
          "metadata": {
            "tags": [],
            "needs_background": "light"
          }
        }
      ]
    },
    {
      "cell_type": "code",
      "metadata": {
        "id": "Nu0pB323h781",
        "colab": {
          "base_uri": "https://localhost:8080/",
          "height": 1000
        },
        "outputId": "6b81bea1-403e-4cb9-9ae7-847212d9372d"
      },
      "source": [
        "# tfds의 내부 메소드로 샘플 이미지들을 보여줍니다.\n",
        "tfds.show_examples(train_data, info)"
      ],
      "execution_count": null,
      "outputs": [
        {
          "output_type": "stream",
          "text": [
            "/usr/local/lib/python3.7/dist-packages/tensorflow/python/data/ops/dataset_ops.py:3704: UserWarning: Even though the `tf.config.experimental_run_functions_eagerly` option is set, this option does not apply to tf.data functions. To force eager execution of tf.data functions, please use `tf.data.experimental.enable.debug_mode()`.\n",
            "  \"Even though the `tf.config.experimental_run_functions_eagerly` \"\n"
          ],
          "name": "stderr"
        },
        {
          "output_type": "display_data",
          "data": {
            "image/png": "[encoded data removed]",
            "text/plain": [
              "<Figure size 648x648 with 9 Axes>"
            ]
          },
          "metadata": {
            "tags": []
          }
        },
        {
          "output_type": "execute_result",
          "data": {
            "image/png": "[encoded data removed]",
            "text/plain": [
              "<Figure size 648x648 with 9 Axes>"
            ]
          },
          "metadata": {
            "tags": []
          },
          "execution_count": 11
        }
      ]
    },
    {
      "cell_type": "code",
      "metadata": {
        "id": "xgRICFtnecGV"
      },
      "source": [
        "# hyperparamter와 arguments\n",
        "TRAIN_SIZE = info.splits['train'].num_examples // 64\n",
        "BATCH_SIZE = 64\n",
        "EPOCHS = 10"
      ],
      "execution_count": null,
      "outputs": []
    },
    {
      "cell_type": "markdown",
      "metadata": {
        "id": "nFzTFSlf11Z6"
      },
      "source": [
        "### 데이터 정규화"
      ]
    },
    {
      "cell_type": "code",
      "metadata": {
        "id": "sEnLjxOF13cJ"
      },
      "source": [
        "def normalize_img(image, label):\n",
        "    \"\"\"Normalizes images: `uint8` -> `float32`.\"\"\"\n",
        "    \n",
        "    # tf.cast로 텐서의 데이터 타입을 바꿔줍니다.\n",
        "    return tf.cast(image, tf.float32) / 255., label"
      ],
      "execution_count": null,
      "outputs": []
    },
    {
      "cell_type": "markdown",
      "metadata": {
        "id": "U8fUT_6gC96V"
      },
      "source": [
        "`tf.data.Dataset.map`에 `num_parallel_calls`는 cpu 코어들의 병렬 처리를 하도록 합니다.  \n",
        "데이터는 서로 독립적이기 때문에 병렬 처리가 가능합니다.  \n",
        "`tf.data.experimental.AUTOTUNE`로 자동으로 코어를 잡아줍니다."
      ]
    },
    {
      "cell_type": "code",
      "metadata": {
        "id": "PFhvDyIZ2CKl",
        "colab": {
          "base_uri": "https://localhost:8080/"
        },
        "outputId": "d25c3e28-deaf-4c4b-93d6-3dbe162e3e9e"
      },
      "source": [
        "train_data = train_data.map(normalize_img, num_parallel_calls=tf.data.experimental.AUTOTUNE)\n",
        "test_data = test_data.map(normalize_img, num_parallel_calls=tf.data.experimental.AUTOTUNE)\n",
        "train_data = train_data.cache()"
      ],
      "execution_count": null,
      "outputs": [
        {
          "output_type": "stream",
          "text": [
            "/usr/local/lib/python3.7/dist-packages/tensorflow/python/data/ops/dataset_ops.py:3704: UserWarning: Even though the `tf.config.experimental_run_functions_eagerly` option is set, this option does not apply to tf.data functions. To force eager execution of tf.data functions, please use `tf.data.experimental.enable.debug_mode()`.\n",
            "  \"Even though the `tf.config.experimental_run_functions_eagerly` \"\n"
          ],
          "name": "stderr"
        }
      ]
    },
    {
      "cell_type": "markdown",
      "metadata": {
        "id": "NRWg4BowulQ6"
      },
      "source": [
        "### 학습 데이터 준비\n",
        "학습을 위해 데이터셋을 셔플링하고 배치단위로 나누어 주겠습니다."
      ]
    },
    {
      "cell_type": "code",
      "metadata": {
        "id": "qpzswbNfuCFQ"
      },
      "source": [
        "# 데이터 셋의 순서를 섞어줍니다.\n",
        "train_data = train_data.shuffle(buffer_size=info.splits['train'].num_examples)"
      ],
      "execution_count": null,
      "outputs": []
    },
    {
      "cell_type": "code",
      "metadata": {
        "id": "r_PtHt7DLshD"
      },
      "source": [
        "train_data = train_data.repeat()"
      ],
      "execution_count": null,
      "outputs": []
    },
    {
      "cell_type": "code",
      "metadata": {
        "id": "ikf62OjviK8A"
      },
      "source": [
        "# 배치 단위로 나누어 줍니다.\n",
        "train_data = train_data.batch(batch_size=BATCH_SIZE)"
      ],
      "execution_count": null,
      "outputs": []
    },
    {
      "cell_type": "code",
      "metadata": {
        "id": "PetvfKCTL9-T"
      },
      "source": [
        "train_data = train_data.prefetch(tf.data.AUTOTUNE)\n",
        "test_data = test_data.batch(64).prefetch(tf.data.AUTOTUNE)"
      ],
      "execution_count": null,
      "outputs": []
    },
    {
      "cell_type": "code",
      "metadata": {
        "colab": {
          "base_uri": "https://localhost:8080/"
        },
        "id": "WTm_iQA4taPl",
        "outputId": "fd0af668-629f-4e3f-cd64-e1d8a12b6e83"
      },
      "source": [
        "for i in range(3):\n",
        "    _, label = next(iter(train_data))\n",
        "    print(label)"
      ],
      "execution_count": null,
      "outputs": [
        {
          "output_type": "stream",
          "text": [
            "tf.Tensor(\n",
            "[5 8 0 8 7 7 6 0 9 3 8 7 6 2 4 0 1 2 9 0 4 1 9 2 1 7 3 6 6 1 2 4 2 2 4 4 9\n",
            " 7 6 8 6 9 0 6 5 5 0 6 8 4 4 9 5 4 7 4 9 5 4 3 5 9 5 9], shape=(64,), dtype=int64)\n",
            "tf.Tensor(\n",
            "[9 1 9 8 5 5 8 8 5 5 6 0 2 2 5 4 5 7 1 2 0 7 6 7 4 1 9 3 8 5 8 9 0 8 9 3 6\n",
            " 8 4 1 2 6 9 9 7 9 8 1 9 4 3 5 7 9 7 3 7 9 2 9 3 6 1 6], shape=(64,), dtype=int64)\n",
            "tf.Tensor(\n",
            "[1 9 0 2 1 4 3 7 2 5 1 6 4 7 1 2 2 6 5 4 2 0 1 7 9 3 9 4 3 0 6 7 1 1 6 1 5\n",
            " 0 7 1 9 3 9 5 9 8 8 8 0 0 1 4 7 3 7 2 9 8 8 2 4 3 6 6], shape=(64,), dtype=int64)\n"
          ],
          "name": "stdout"
        }
      ]
    },
    {
      "cell_type": "markdown",
      "metadata": {
        "id": "23xlZndoOEa4"
      },
      "source": [
        "### DNN 모델 구현하기"
      ]
    },
    {
      "cell_type": "code",
      "metadata": {
        "id": "sAprLqV-0JHL",
        "colab": {
          "base_uri": "https://localhost:8080/"
        },
        "outputId": "5e2d6b4d-08dc-49a1-891e-2f18d276ea00"
      },
      "source": [
        "DNN_model = tf.keras.models.Sequential([\n",
        "    tf.keras.layers.Flatten(input_shape=(28, 28, 1)),\n",
        "    tf.keras.layers.Dense(128, activation='relu'),\n",
        "    tf.keras.layers.Dropout(0.2),\n",
        "    tf.keras.layers.Dense(256, activation='relu'),\n",
        "    tf.keras.layers.Dropout(0.2),\n",
        "    tf.keras.layers.Dense(10, activation='softmax')\n",
        "])\n",
        "\n",
        "DNN_model.summary()"
      ],
      "execution_count": null,
      "outputs": [
        {
          "output_type": "stream",
          "text": [
            "Model: \"sequential\"\n",
            "_________________________________________________________________\n",
            "Layer (type)                 Output Shape              Param #   \n",
            "=================================================================\n",
            "flatten (Flatten)            (None, 784)               0         \n",
            "_________________________________________________________________\n",
            "dense (Dense)                (None, 128)               100480    \n",
            "_________________________________________________________________\n",
            "dropout (Dropout)            (None, 128)               0         \n",
            "_________________________________________________________________\n",
            "dense_1 (Dense)              (None, 256)               33024     \n",
            "_________________________________________________________________\n",
            "dropout_1 (Dropout)          (None, 256)               0         \n",
            "_________________________________________________________________\n",
            "dense_2 (Dense)              (None, 10)                2570      \n",
            "=================================================================\n",
            "Total params: 136,074\n",
            "Trainable params: 136,074\n",
            "Non-trainable params: 0\n",
            "_________________________________________________________________\n"
          ],
          "name": "stdout"
        }
      ]
    },
    {
      "cell_type": "markdown",
      "metadata": {
        "id": "KwVRd8TxhITK"
      },
      "source": [
        "### CNN 모델 구현하기"
      ]
    },
    {
      "cell_type": "code",
      "metadata": {
        "id": "KjoWLhVmODJa"
      },
      "source": [
        "class CNN_model(tf.keras.Model):\n",
        "    def __init__(self, num_classes, hidden_dim):\n",
        "        super(CNN_model, self).__init__()\n",
        "        self.num_classes = num_classes\n",
        "        self.hidden_dim = hidden_dim\n",
        "\n",
        "        self.fc_block = tf.keras.Sequential([\n",
        "                                             tf.keras.layers.Flatten(),\n",
        "                                             tf.keras.layers.Dense(512),\n",
        "                                             tf.keras.layers.Dense(512),\n",
        "                                             tf.keras.layers.Dense(self.num_classes,\n",
        "                                                                   activation='softmax')\n",
        "        ])\n",
        "\n",
        "        self.conv_block0 = ConvBlock(filters=hidden_dim[0])\n",
        "        self.conv_block1 = ConvBlock(filters=hidden_dim[1])\n",
        "        self.conv_block2 = ConvBlock(filters=hidden_dim[2])\n",
        "        self.conv_block3 = ConvBlock(filters=hidden_dim[3])\n",
        "    \n",
        "    def call(self, inputs):\n",
        "        x = self.conv_block0(inputs)\n",
        "        x = self.conv_block1(x)\n",
        "        x = self.conv_block2(x)\n",
        "        x = self.conv_block3(x)\n",
        "        out = self.fc_block(x)\n",
        "        return out\n",
        "\n",
        "class ConvBlock(tf.keras.layers.Layer):\n",
        "    def __init__(self, filters):\n",
        "        super(ConvBlock, self).__init__()\n",
        "\n",
        "        self.filters = filters\n",
        "        self.conv1 = tf.keras.layers.Conv2D(filters=self.filters,\n",
        "                                            kernel_size=3,\n",
        "                                            padding='same')\n",
        "        self.BN1 = tf.keras.layers.BatchNormalization()\n",
        "        self.conv2 = tf.keras.layers.Conv2D(filters=self.filters,\n",
        "                                            kernel_size=3,\n",
        "                                            padding='same')\n",
        "        self.BN2 = tf.keras.layers.BatchNormalization()\n",
        "        self.conv3 = tf.keras.layers.Conv2D(filters=self.filters,\n",
        "                                            kernel_size=3,\n",
        "                                            padding='same')\n",
        "        self.BN3 = tf.keras.layers.BatchNormalization()\n",
        "        self.relu = tf.keras.layers.Activation('relu')\n",
        "        self.pool = tf.keras.layers.MaxPool2D((2,2),2)\n",
        "    \n",
        "    def call(self, input):\n",
        "        x = self.conv1(input)\n",
        "        x = self.BN1(x)\n",
        "        x = self.relu(x)\n",
        "        x = self.conv2(x)\n",
        "        x = self.BN2(x)\n",
        "        x = self.relu(x)\n",
        "        if self.filters == 512:\n",
        "            x = self.conv3(x)\n",
        "            x = self.BN3(x)\n",
        "            x = self.relu(x)\n",
        "        return self.pool(x)"
      ],
      "execution_count": null,
      "outputs": []
    },
    {
      "cell_type": "code",
      "metadata": {
        "id": "9Un8GhEapWE-"
      },
      "source": [
        "HIDDEN_DIM = [64, 128, 256, 512]\n",
        "cnn_model = CNN_model(num_classes=10,\n",
        "                      hidden_dim=HIDDEN_DIM)"
      ],
      "execution_count": null,
      "outputs": []
    },
    {
      "cell_type": "code",
      "metadata": {
        "colab": {
          "base_uri": "https://localhost:8080/"
        },
        "id": "NXx-ieKe9gGR",
        "outputId": "ab94e12c-9ef4-4b85-b251-d52b428708a6"
      },
      "source": [
        "input = tf.keras.layers.Input((28,28,1))\n",
        "cnn_model(input)"
      ],
      "execution_count": null,
      "outputs": [
        {
          "output_type": "execute_result",
          "data": {
            "text/plain": [
              "<KerasTensor: shape=(None, 10) dtype=float32 (created by layer 'cnn_model')>"
            ]
          },
          "metadata": {
            "tags": []
          },
          "execution_count": 23
        }
      ]
    },
    {
      "cell_type": "code",
      "metadata": {
        "colab": {
          "base_uri": "https://localhost:8080/"
        },
        "id": "mOXJNFErbrn9",
        "outputId": "7dd7d6ec-d66d-4289-b66d-074c8547dbb9"
      },
      "source": [
        "cnn_model.summary()"
      ],
      "execution_count": null,
      "outputs": [
        {
          "output_type": "stream",
          "text": [
            "Model: \"cnn_model\"\n",
            "_________________________________________________________________\n",
            "Layer (type)                 Output Shape              Param #   \n",
            "=================================================================\n",
            "sequential_1 (Sequential)    (None, 10)                530442    \n",
            "_________________________________________________________________\n",
            "conv_block (ConvBlock)       multiple                  38080     \n",
            "_________________________________________________________________\n",
            "conv_block_1 (ConvBlock)     multiple                  222464    \n",
            "_________________________________________________________________\n",
            "conv_block_2 (ConvBlock)     multiple                  887296    \n",
            "_________________________________________________________________\n",
            "conv_block_3 (ConvBlock)     multiple                  5905920   \n",
            "=================================================================\n",
            "Total params: 7,584,202\n",
            "Trainable params: 7,579,338\n",
            "Non-trainable params: 4,864\n",
            "_________________________________________________________________\n"
          ],
          "name": "stdout"
        }
      ]
    },
    {
      "cell_type": "markdown",
      "metadata": {
        "id": "3pWHLRiTeTcx"
      },
      "source": [
        "### Model Training"
      ]
    },
    {
      "cell_type": "code",
      "metadata": {
        "colab": {
          "base_uri": "https://localhost:8080/"
        },
        "id": "ZZGMe5LR_VU_",
        "outputId": "61118d09-12ab-4f9b-a27b-07dd759f2d29"
      },
      "source": [
        "tf.config.list_physical_devices('GPU')"
      ],
      "execution_count": null,
      "outputs": [
        {
          "output_type": "execute_result",
          "data": {
            "text/plain": [
              "[PhysicalDevice(name='/physical_device:GPU:0', device_type='GPU')]"
            ]
          },
          "metadata": {
            "tags": []
          },
          "execution_count": 25
        }
      ]
    },
    {
      "cell_type": "markdown",
      "metadata": {
        "id": "KAx-P2CDOKWj"
      },
      "source": [
        "#### DNN model training"
      ]
    },
    {
      "cell_type": "code",
      "metadata": {
        "id": "cbIhY4rrwcpO"
      },
      "source": [
        "(train_x, train_y)"
      ],
      "execution_count": null,
      "outputs": []
    },
    {
      "cell_type": "code",
      "metadata": {
        "id": "P8CiiIDX3yIq",
        "colab": {
          "base_uri": "https://localhost:8080/"
        },
        "outputId": "88750955-ca2e-473f-fbf1-778189bb53d7"
      },
      "source": [
        "DNN_model.compile(optimizer='adam',\n",
        "                  loss='sparse_categorical_crossentropy',\n",
        "                  metrics=['accuracy'])\n",
        "\n",
        "dnn_history = DNN_model.fit(train_data,\n",
        "                        epochs=EPOCHS,\n",
        "                        validation_data=test_data,\n",
        "                        verbose=1,\n",
        "                        steps_per_epoch=TRAIN_SIZE)"
      ],
      "execution_count": null,
      "outputs": [
        {
          "output_type": "stream",
          "text": [
            "Epoch 1/10\n",
            "937/937 [==============================] - 14s 15ms/step - loss: 0.5603 - accuracy: 0.8002 - val_loss: 0.4108 - val_accuracy: 0.8514\n",
            "Epoch 2/10\n",
            "937/937 [==============================] - 13s 14ms/step - loss: 0.4126 - accuracy: 0.8493 - val_loss: 0.3857 - val_accuracy: 0.8619\n",
            "Epoch 3/10\n",
            "937/937 [==============================] - 13s 14ms/step - loss: 0.3765 - accuracy: 0.8626 - val_loss: 0.3860 - val_accuracy: 0.8581\n",
            "Epoch 4/10\n",
            "937/937 [==============================] - 14s 14ms/step - loss: 0.3558 - accuracy: 0.8685 - val_loss: 0.3615 - val_accuracy: 0.8675\n",
            "Epoch 5/10\n",
            "937/937 [==============================] - 14s 15ms/step - loss: 0.3373 - accuracy: 0.8755 - val_loss: 0.3452 - val_accuracy: 0.8741\n",
            "Epoch 6/10\n",
            "937/937 [==============================] - 14s 15ms/step - loss: 0.3244 - accuracy: 0.8787 - val_loss: 0.3409 - val_accuracy: 0.8766\n",
            "Epoch 7/10\n",
            "937/937 [==============================] - 13s 14ms/step - loss: 0.3140 - accuracy: 0.8832 - val_loss: 0.3673 - val_accuracy: 0.8670\n",
            "Epoch 8/10\n",
            "937/937 [==============================] - 13s 14ms/step - loss: 0.3060 - accuracy: 0.8863 - val_loss: 0.3444 - val_accuracy: 0.8785\n",
            "Epoch 9/10\n",
            "937/937 [==============================] - 14s 15ms/step - loss: 0.2983 - accuracy: 0.8888 - val_loss: 0.3345 - val_accuracy: 0.8833\n",
            "Epoch 10/10\n",
            "937/937 [==============================] - 16s 17ms/step - loss: 0.2924 - accuracy: 0.8892 - val_loss: 0.3285 - val_accuracy: 0.8819\n"
          ],
          "name": "stdout"
        }
      ]
    },
    {
      "cell_type": "code",
      "metadata": {
        "colab": {
          "base_uri": "https://localhost:8080/",
          "height": 714
        },
        "id": "ErUACrv6ISP1",
        "outputId": "31ddc77c-07e6-48f1-d770-b6a055daa77e"
      },
      "source": [
        "plt.figure(figsize=(12,12))\n",
        "\n",
        "plt.subplot(211)\n",
        "plt.plot(dnn_history.history['accuracy'], label='acc')\n",
        "plt.plot(dnn_history.history['val_accuracy'], label='val_acc')\n",
        "plt.xlabel(\"epoch\")\n",
        "plt.ylabel(\"Acc\")\n",
        "plt.legend()\n",
        "\n",
        "plt.subplot(212)\n",
        "plt.plot(dnn_history.history['loss'], label='loss')\n",
        "plt.plot(dnn_history.history['val_loss'], label='val_loss')\n",
        "plt.xlabel(\"epoch\")\n",
        "plt.ylabel(\"Loss\")\n",
        "plt.legend()\n",
        "\n",
        "plt.show()"
      ],
      "execution_count": null,
      "outputs": [
        {
          "output_type": "display_data",
          "data": {
            "image/png": "[encoded data removed]",
            "text/plain": [
              "<Figure size 864x864 with 2 Axes>"
            ]
          },
          "metadata": {
            "tags": [],
            "needs_background": "light"
          }
        }
      ]
    },
    {
      "cell_type": "markdown",
      "metadata": {
        "id": "KfkFwLxZgVgo"
      },
      "source": [
        "#### Dnn model Test"
      ]
    },
    {
      "cell_type": "code",
      "metadata": {
        "colab": {
          "base_uri": "https://localhost:8080/"
        },
        "id": "ZWNT9Nm4JZmM",
        "outputId": "c3ffc2bf-2884-4d5a-adaa-9129be23368a"
      },
      "source": [
        "DNN_model.evaluate(test_data)"
      ],
      "execution_count": null,
      "outputs": [
        {
          "output_type": "stream",
          "text": [
            "157/157 [==============================] - 1s 9ms/step - loss: 0.3285 - accuracy: 0.8819\n"
          ],
          "name": "stdout"
        },
        {
          "output_type": "execute_result",
          "data": {
            "text/plain": [
              "[0.328456312417984, 0.8819000124931335]"
            ]
          },
          "metadata": {
            "tags": []
          },
          "execution_count": 37
        }
      ]
    },
    {
      "cell_type": "code",
      "metadata": {
        "id": "sCectGmkKTgX"
      },
      "source": [
        "image, label = next(iter(test_data))\n",
        "sample_img, sample_label = image[0], label[0]"
      ],
      "execution_count": null,
      "outputs": []
    },
    {
      "cell_type": "code",
      "metadata": {
        "colab": {
          "base_uri": "https://localhost:8080/",
          "height": 282
        },
        "id": "WPWAkQ3cKNRQ",
        "outputId": "e222dd8c-27ed-4ef3-93f5-c005f3d9eca5"
      },
      "source": [
        "plt.imshow(sample_img[:,:,0])\n",
        "print(sample_label.numpy())"
      ],
      "execution_count": null,
      "outputs": [
        {
          "output_type": "stream",
          "text": [
            "4\n"
          ],
          "name": "stdout"
        },
        {
          "output_type": "display_data",
          "data": {
            "image/png": "[encoded data removed]",
            "text/plain": [
              "<Figure size 432x288 with 1 Axes>"
            ]
          },
          "metadata": {
            "tags": [],
            "needs_background": "light"
          }
        }
      ]
    },
    {
      "cell_type": "code",
      "metadata": {
        "id": "cBHWt5O0KeMZ",
        "colab": {
          "base_uri": "https://localhost:8080/"
        },
        "outputId": "6873e11e-0523-4486-8be4-4fbd1c603d69"
      },
      "source": [
        "sample_img = sample_img[np.newaxis,:,:,:]\n",
        "y_hat = DNN_model.predict(sample_img)"
      ],
      "execution_count": null,
      "outputs": [
        {
          "output_type": "stream",
          "text": [
            "/usr/local/lib/python3.7/dist-packages/tensorflow/python/data/ops/dataset_ops.py:3704: UserWarning: Even though the `tf.config.experimental_run_functions_eagerly` option is set, this option does not apply to tf.data functions. To force eager execution of tf.data functions, please use `tf.data.experimental.enable.debug_mode()`.\n",
            "  \"Even though the `tf.config.experimental_run_functions_eagerly` \"\n"
          ],
          "name": "stderr"
        }
      ]
    },
    {
      "cell_type": "code",
      "metadata": {
        "colab": {
          "base_uri": "https://localhost:8080/"
        },
        "id": "HhNJOYf2LF5g",
        "outputId": "b7797444-db4c-4afb-8664-950db61bb73f"
      },
      "source": [
        "pred = np.argmax(y_hat, axis=-1)\n",
        "pred"
      ],
      "execution_count": null,
      "outputs": [
        {
          "output_type": "execute_result",
          "data": {
            "text/plain": [
              "array([4])"
            ]
          },
          "metadata": {
            "tags": []
          },
          "execution_count": 41
        }
      ]
    },
    {
      "cell_type": "markdown",
      "metadata": {
        "id": "Pv_Vxj-9g5Ee"
      },
      "source": [
        "#### CNN model training"
      ]
    },
    {
      "cell_type": "code",
      "metadata": {
        "colab": {
          "base_uri": "https://localhost:8080/"
        },
        "id": "hORzuqQt8YnM",
        "outputId": "777df536-ad29-42e1-ac1d-2f6e1941e704"
      },
      "source": [
        "epochs = EPOCHS\n",
        "\n",
        "cnn_model.compile(\n",
        "    optimizer=tf.keras.optimizers.Adam(1e-3),\n",
        "    loss=\"sparse_categorical_crossentropy\",\n",
        "    metrics=[\"accuracy\"],\n",
        ")\n",
        "cnn_history = cnn_model.fit(\n",
        "    train_data, epochs=EPOCHS, validation_data=test_data, steps_per_epoch=TRAIN_SIZE\n",
        ")"
      ],
      "execution_count": null,
      "outputs": [
        {
          "output_type": "stream",
          "text": [
            "Epoch 1/10\n",
            "937/937 [==============================] - 73s 44ms/step - loss: 0.4946 - accuracy: 0.8306 - val_loss: 0.3368 - val_accuracy: 0.8793\n",
            "Epoch 2/10\n",
            "937/937 [==============================] - 44s 47ms/step - loss: 0.2817 - accuracy: 0.9007 - val_loss: 0.2620 - val_accuracy: 0.9065\n",
            "Epoch 3/10\n",
            "937/937 [==============================] - 42s 44ms/step - loss: 0.2399 - accuracy: 0.9143 - val_loss: 0.2678 - val_accuracy: 0.9062\n",
            "Epoch 4/10\n",
            "937/937 [==============================] - 41s 44ms/step - loss: 0.2060 - accuracy: 0.9267 - val_loss: 0.3327 - val_accuracy: 0.8836\n",
            "Epoch 5/10\n",
            "937/937 [==============================] - 41s 44ms/step - loss: 0.5860 - accuracy: 0.8471 - val_loss: 0.4439 - val_accuracy: 0.8428\n",
            "Epoch 6/10\n",
            "937/937 [==============================] - 42s 44ms/step - loss: 0.3107 - accuracy: 0.8905 - val_loss: 0.2941 - val_accuracy: 0.8920\n",
            "Epoch 7/10\n",
            "937/937 [==============================] - 41s 43ms/step - loss: 0.2111 - accuracy: 0.9246 - val_loss: 0.2253 - val_accuracy: 0.9171\n",
            "Epoch 8/10\n",
            "937/937 [==============================] - 41s 44ms/step - loss: 0.1798 - accuracy: 0.9355 - val_loss: 0.2147 - val_accuracy: 0.9246\n",
            "Epoch 9/10\n",
            "937/937 [==============================] - 41s 44ms/step - loss: 0.1615 - accuracy: 0.9421 - val_loss: 0.2390 - val_accuracy: 0.9173\n",
            "Epoch 10/10\n",
            "937/937 [==============================] - 42s 45ms/step - loss: 0.1428 - accuracy: 0.9492 - val_loss: 0.2546 - val_accuracy: 0.9216\n"
          ],
          "name": "stdout"
        }
      ]
    },
    {
      "cell_type": "code",
      "metadata": {
        "colab": {
          "base_uri": "https://localhost:8080/",
          "height": 714
        },
        "id": "8l9rQma0fYM3",
        "outputId": "fba9c781-af69-4042-ed3d-b8180d041d6c"
      },
      "source": [
        "plt.figure(figsize=(12,12))\n",
        "\n",
        "plt.subplot(211)\n",
        "plt.plot(cnn_history.history['accuracy'], label='acc')\n",
        "plt.plot(cnn_history.history['val_accuracy'], label='val_acc')\n",
        "plt.xlabel(\"epoch\")\n",
        "plt.ylabel(\"Acc\")\n",
        "plt.legend()\n",
        "\n",
        "plt.subplot(212)\n",
        "plt.plot(cnn_history.history['loss'], label='loss')\n",
        "plt.plot(cnn_history.history['val_loss'], label='val_loss')\n",
        "plt.xlabel(\"epoch\")\n",
        "plt.ylabel(\"Loss\")\n",
        "plt.legend()\n",
        "\n",
        "plt.show()"
      ],
      "execution_count": null,
      "outputs": [
        {
          "output_type": "display_data",
          "data": {
            "image/png": "[encoded data removed]",
            "text/plain": [
              "<Figure size 864x864 with 2 Axes>"
            ]
          },
          "metadata": {
            "tags": [],
            "needs_background": "light"
          }
        }
      ]
    },
    {
      "cell_type": "markdown",
      "metadata": {
        "id": "3bYiAlFPgaki"
      },
      "source": [
        "#### CNN model test"
      ]
    },
    {
      "cell_type": "code",
      "metadata": {
        "colab": {
          "base_uri": "https://localhost:8080/"
        },
        "id": "vh01aNfVgcPO",
        "outputId": "aeed4717-3efc-4dd3-9dfa-055317c04058"
      },
      "source": [
        "cnn_model.evaluate(test_data)"
      ],
      "execution_count": null,
      "outputs": [
        {
          "output_type": "stream",
          "text": [
            "157/157 [==============================] - 3s 20ms/step - loss: 0.2546 - accuracy: 0.9216\n"
          ],
          "name": "stdout"
        },
        {
          "output_type": "execute_result",
          "data": {
            "text/plain": [
              "[0.2546447813510895, 0.9215999841690063]"
            ]
          },
          "metadata": {
            "tags": []
          },
          "execution_count": 30
        }
      ]
    },
    {
      "cell_type": "code",
      "metadata": {
        "id": "pZggaJZEgfMK"
      },
      "source": [
        "image, label = next(iter(test_data))\n",
        "sample_img, sample_label = image[0], label[0]"
      ],
      "execution_count": null,
      "outputs": []
    },
    {
      "cell_type": "code",
      "metadata": {
        "colab": {
          "base_uri": "https://localhost:8080/",
          "height": 282
        },
        "id": "sAsCVXKvghap",
        "outputId": "5799d01f-3504-4030-d8b5-81f37ed0fa68"
      },
      "source": [
        "plt.imshow(sample_img[:,:,0])\n",
        "print(sample_label.numpy())"
      ],
      "execution_count": null,
      "outputs": [
        {
          "output_type": "stream",
          "text": [
            "4\n"
          ],
          "name": "stdout"
        },
        {
          "output_type": "display_data",
          "data": {
            "image/png": "[encoded data removed]",
            "text/plain": [
              "<Figure size 432x288 with 1 Axes>"
            ]
          },
          "metadata": {
            "tags": [],
            "needs_background": "light"
          }
        }
      ]
    },
    {
      "cell_type": "code",
      "metadata": {
        "colab": {
          "base_uri": "https://localhost:8080/"
        },
        "id": "KS2BsymHgkn3",
        "outputId": "79b79bc8-4d0c-4f91-eadc-451f29903dd1"
      },
      "source": [
        "sample_img = sample_img[np.newaxis,:,:,:]\n",
        "y_hat = cnn_model.predict(sample_img)"
      ],
      "execution_count": null,
      "outputs": [
        {
          "output_type": "stream",
          "text": [
            "/usr/local/lib/python3.7/dist-packages/tensorflow/python/data/ops/dataset_ops.py:3704: UserWarning: Even though the `tf.config.experimental_run_functions_eagerly` option is set, this option does not apply to tf.data functions. To force eager execution of tf.data functions, please use `tf.data.experimental.enable.debug_mode()`.\n",
            "  \"Even though the `tf.config.experimental_run_functions_eagerly` \"\n"
          ],
          "name": "stderr"
        }
      ]
    },
    {
      "cell_type": "code",
      "metadata": {
        "colab": {
          "base_uri": "https://localhost:8080/"
        },
        "id": "TUXu5NefgmZ0",
        "outputId": "580e9f21-fa97-4833-8dd0-0be39e523dc4"
      },
      "source": [
        "pred = np.argmax(y_hat, axis=-1)\n",
        "pred"
      ],
      "execution_count": null,
      "outputs": [
        {
          "output_type": "execute_result",
          "data": {
            "text/plain": [
              "array([4])"
            ]
          },
          "metadata": {
            "tags": []
          },
          "execution_count": 34
        }
      ]
    }
  ]
}